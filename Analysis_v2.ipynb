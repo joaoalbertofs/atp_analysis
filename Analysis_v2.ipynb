{
 "cells": [
  {
   "cell_type": "code",
   "execution_count": 33,
   "metadata": {},
   "outputs": [],
   "source": [
    "\n",
    "import plotly.graph_objs as go\n",
    "import plotly.express as px\n",
    "import plotly.io as pio\n",
    "import matplotlib.pyplot as plt\n",
    "import pandas as pd\n",
    "import xgboost as xgb\n",
    "from sklearn.model_selection import train_test_split, GridSearchCV\n",
    "from sklearn.metrics import accuracy_score, roc_auc_score, f1_score\n",
    "from sklearn.model_selection import StratifiedKFold"
   ]
  },
  {
   "cell_type": "code",
   "execution_count": 2,
   "metadata": {},
   "outputs": [],
   "source": [
    "df = pd.read_csv('/Users/joaosequeira/udacity_joao/atp_analysis/atp_tennis.csv')\n"
   ]
  },
  {
   "cell_type": "code",
   "execution_count": 3,
   "metadata": {},
   "outputs": [
    {
     "data": {
      "text/html": [
       "<div>\n",
       "<style scoped>\n",
       "    .dataframe tbody tr th:only-of-type {\n",
       "        vertical-align: middle;\n",
       "    }\n",
       "\n",
       "    .dataframe tbody tr th {\n",
       "        vertical-align: top;\n",
       "    }\n",
       "\n",
       "    .dataframe thead th {\n",
       "        text-align: right;\n",
       "    }\n",
       "</style>\n",
       "<table border=\"1\" class=\"dataframe\">\n",
       "  <thead>\n",
       "    <tr style=\"text-align: right;\">\n",
       "      <th></th>\n",
       "      <th>Tournament</th>\n",
       "      <th>Date</th>\n",
       "      <th>Series</th>\n",
       "      <th>Court</th>\n",
       "      <th>Surface</th>\n",
       "      <th>Round</th>\n",
       "      <th>Best of</th>\n",
       "      <th>Player_1</th>\n",
       "      <th>Player_2</th>\n",
       "      <th>Winner</th>\n",
       "      <th>Rank_1</th>\n",
       "      <th>Rank_2</th>\n",
       "      <th>Pts_1</th>\n",
       "      <th>Pts_2</th>\n",
       "      <th>Odd_1</th>\n",
       "      <th>Odd_2</th>\n",
       "      <th>score</th>\n",
       "    </tr>\n",
       "  </thead>\n",
       "  <tbody>\n",
       "    <tr>\n",
       "      <th>0</th>\n",
       "      <td>Brisbane International</td>\n",
       "      <td>2012-12-31</td>\n",
       "      <td>ATP250</td>\n",
       "      <td>Outdoor</td>\n",
       "      <td>Hard</td>\n",
       "      <td>1st Round</td>\n",
       "      <td>3</td>\n",
       "      <td>Mayer F.</td>\n",
       "      <td>Giraldo S.</td>\n",
       "      <td>Mayer F.</td>\n",
       "      <td>28</td>\n",
       "      <td>57</td>\n",
       "      <td>1215</td>\n",
       "      <td>778</td>\n",
       "      <td>1.36</td>\n",
       "      <td>3.00</td>\n",
       "      <td>6-4 6-4</td>\n",
       "    </tr>\n",
       "    <tr>\n",
       "      <th>1</th>\n",
       "      <td>Brisbane International</td>\n",
       "      <td>2012-12-31</td>\n",
       "      <td>ATP250</td>\n",
       "      <td>Outdoor</td>\n",
       "      <td>Hard</td>\n",
       "      <td>1st Round</td>\n",
       "      <td>3</td>\n",
       "      <td>Benneteau J.</td>\n",
       "      <td>Nieminen J.</td>\n",
       "      <td>Nieminen J.</td>\n",
       "      <td>35</td>\n",
       "      <td>41</td>\n",
       "      <td>1075</td>\n",
       "      <td>927</td>\n",
       "      <td>2.20</td>\n",
       "      <td>1.61</td>\n",
       "      <td>3-6 6-2 1-6</td>\n",
       "    </tr>\n",
       "    <tr>\n",
       "      <th>2</th>\n",
       "      <td>Brisbane International</td>\n",
       "      <td>2012-12-31</td>\n",
       "      <td>ATP250</td>\n",
       "      <td>Outdoor</td>\n",
       "      <td>Hard</td>\n",
       "      <td>1st Round</td>\n",
       "      <td>3</td>\n",
       "      <td>Nishikori K.</td>\n",
       "      <td>Matosevic M.</td>\n",
       "      <td>Nishikori K.</td>\n",
       "      <td>19</td>\n",
       "      <td>49</td>\n",
       "      <td>1830</td>\n",
       "      <td>845</td>\n",
       "      <td>1.25</td>\n",
       "      <td>3.75</td>\n",
       "      <td>7-5 6-2</td>\n",
       "    </tr>\n",
       "    <tr>\n",
       "      <th>3</th>\n",
       "      <td>Brisbane International</td>\n",
       "      <td>2012-12-31</td>\n",
       "      <td>ATP250</td>\n",
       "      <td>Outdoor</td>\n",
       "      <td>Hard</td>\n",
       "      <td>1st Round</td>\n",
       "      <td>3</td>\n",
       "      <td>Mitchell B.</td>\n",
       "      <td>Baghdatis M.</td>\n",
       "      <td>Baghdatis M.</td>\n",
       "      <td>326</td>\n",
       "      <td>36</td>\n",
       "      <td>137</td>\n",
       "      <td>1070</td>\n",
       "      <td>9.00</td>\n",
       "      <td>1.07</td>\n",
       "      <td>4-6 4-6</td>\n",
       "    </tr>\n",
       "    <tr>\n",
       "      <th>4</th>\n",
       "      <td>Brisbane International</td>\n",
       "      <td>2013-01-01</td>\n",
       "      <td>ATP250</td>\n",
       "      <td>Outdoor</td>\n",
       "      <td>Hard</td>\n",
       "      <td>1st Round</td>\n",
       "      <td>3</td>\n",
       "      <td>Istomin D.</td>\n",
       "      <td>Klizan M.</td>\n",
       "      <td>Istomin D.</td>\n",
       "      <td>43</td>\n",
       "      <td>30</td>\n",
       "      <td>897</td>\n",
       "      <td>1175</td>\n",
       "      <td>1.90</td>\n",
       "      <td>1.80</td>\n",
       "      <td>6-1 6-2</td>\n",
       "    </tr>\n",
       "  </tbody>\n",
       "</table>\n",
       "</div>"
      ],
      "text/plain": [
       "               Tournament        Date  Series    Court Surface      Round   \n",
       "0  Brisbane International  2012-12-31  ATP250  Outdoor    Hard  1st Round  \\\n",
       "1  Brisbane International  2012-12-31  ATP250  Outdoor    Hard  1st Round   \n",
       "2  Brisbane International  2012-12-31  ATP250  Outdoor    Hard  1st Round   \n",
       "3  Brisbane International  2012-12-31  ATP250  Outdoor    Hard  1st Round   \n",
       "4  Brisbane International  2013-01-01  ATP250  Outdoor    Hard  1st Round   \n",
       "\n",
       "   Best of      Player_1      Player_2        Winner  Rank_1  Rank_2  Pts_1   \n",
       "0        3      Mayer F.    Giraldo S.      Mayer F.      28      57   1215  \\\n",
       "1        3  Benneteau J.   Nieminen J.   Nieminen J.      35      41   1075   \n",
       "2        3  Nishikori K.  Matosevic M.  Nishikori K.      19      49   1830   \n",
       "3        3   Mitchell B.  Baghdatis M.  Baghdatis M.     326      36    137   \n",
       "4        3    Istomin D.     Klizan M.    Istomin D.      43      30    897   \n",
       "\n",
       "   Pts_2  Odd_1  Odd_2          score  \n",
       "0    778   1.36   3.00     6-4 6-4     \n",
       "1    927   2.20   1.61  3-6 6-2 1-6    \n",
       "2    845   1.25   3.75     7-5 6-2     \n",
       "3   1070   9.00   1.07     4-6 4-6     \n",
       "4   1175   1.90   1.80     6-1 6-2     "
      ]
     },
     "execution_count": 3,
     "metadata": {},
     "output_type": "execute_result"
    }
   ],
   "source": [
    "df.head()"
   ]
  },
  {
   "cell_type": "code",
   "execution_count": 23,
   "metadata": {},
   "outputs": [],
   "source": [
    "# Define uma função que retorna o vencedor de uma partida\n",
    "def get_winner_rank(df):\n",
    "    if df['Winner'] == df['Player_1']:\n",
    "        return df['Rank_1']\n",
    "    else:\n",
    "        return df['Rank_2']\n",
    "    \n",
    "# Define uma função que retorna o perdedor de uma partida\n",
    "def get_loser_rank(df):\n",
    "    if df['Winner'] != df['Player_1']:\n",
    "        return df['Rank_1']\n",
    "    else:\n",
    "        return df['Rank_2']\n",
    "    \n",
    "# Aplica a função ao DataFrame para criar a coluna \"Loser\"\n",
    "df['Rank_loser'] = df.apply(get_loser_rank, axis=1)\n",
    "df['Rank_winner'] = df.apply(get_winner_rank, axis=1)\n",
    "\n",
    "df['Rank_dif'] = abs(df['Rank_1'] - df['Rank_2'])\n",
    "\n",
    "df_treated = df[df['Rank_dif'] <= 200]\n"
   ]
  },
  {
   "cell_type": "code",
   "execution_count": null,
   "metadata": {},
   "outputs": [],
   "source": [
    "\n",
    "# Definindo a quantidade de bins desejada\n",
    "num_bins = 10\n",
    "\n",
    "# Criando os bins\n",
    "bins = pd.cut(df_treated['Rank_dif'], num_bins, labels=False)\n",
    "\n",
    "# Criando dataframes com base nos bins\n",
    "dataframes = []\n",
    "for bin_id in range(num_bins):\n",
    "    bin_df = df_treated[bins == bin_id]\n",
    "    bin_df['Bin'] = bin_id\n",
    "    dataframes.append(bin_df)\n",
    "\n",
    "# Concatenando os dataframes\n",
    "result = pd.concat(dataframes)"
   ]
  },
  {
   "cell_type": "code",
   "execution_count": 42,
   "metadata": {},
   "outputs": [
    {
     "data": {
      "image/png": "[encoded data removed]",
      "text/plain": [
       "<Figure size 640x480 with 1 Axes>"
      ]
     },
     "metadata": {},
     "output_type": "display_data"
    }
   ],
   "source": [
    "\n",
    "# Agrupando os valores por grupo\n",
    "grouped_data = result.groupby('Bin')['Rank_dif'].apply(list)\n",
    "\n",
    "# Criando o gráfico de boxplot\n",
    "plt.boxplot(grouped_data)\n",
    "\n",
    "# Definindo os rótulos dos eixos\n",
    "plt.xlabel('Grupo')\n",
    "plt.ylabel('Valor')\n",
    "\n",
    "# Definindo os rótulos no eixo x\n",
    "plt.xticks(range(1, len(grouped_data) + 1), grouped_data.index)\n",
    "\n",
    "# Exibindo o gráfico\n",
    "plt.show()"
   ]
  },
  {
   "cell_type": "code",
   "execution_count": 70,
   "metadata": {},
   "outputs": [
    {
     "data": {
      "image/png": "[encoded data removed]",
      "text/plain": [
       "<Figure size 640x480 with 1 Axes>"
      ]
     },
     "metadata": {},
     "output_type": "display_data"
    }
   ],
   "source": [
    "# Agrupando os dados por bin e calculando a porcentagem de vitória\n",
    "grouped_data = result.groupby('Bin').apply(lambda x: (x['Rank_winner'] < x['Rank_loser']).mean() * 100)\n",
    "\n",
    "# Criando o gráfico de pontos\n",
    "plt.scatter(range(len(grouped_data)), grouped_data)\n",
    "\n",
    "# Definindo os rótulos dos eixos\n",
    "plt.xlabel('Bin')\n",
    "plt.ylabel('Porcentagem de vitórias')\n",
    "\n",
    "# Definindo os rótulos no eixo x\n",
    "plt.xticks(range(len(grouped_data)), grouped_data.index)\n",
    "\n",
    "# Exibindo o gráfico\n",
    "plt.show()\n",
    "\n"
   ]
  },
  {
   "cell_type": "code",
   "execution_count": 78,
   "metadata": {},
   "outputs": [
    {
     "data": {
      "image/png": "[encoded data removed]",
      "text/plain": [
       "<Figure size 640x480 with 1 Axes>"
      ]
     },
     "metadata": {},
     "output_type": "display_data"
    }
   ],
   "source": [
    "# Agrupando os valores por Bin e Court e calculando a porcentagem de vitórias\n",
    "grouped_data = result.groupby(['Bin', 'Court']).apply(lambda x: (x['Rank_winner'] < x['Rank_loser']).mean() * 100)\n",
    "\n",
    "# Criando o gráfico de pontos\n",
    "fig, ax = plt.subplots()\n",
    "\n",
    "# Definindo as cores para cada court\n",
    "colors = {'Indoor': 'blue', 'Outdoor': 'red'}\n",
    "\n",
    "# Iterando sobre os grupos e criando os pontos\n",
    "for (bin_, court), percentage in grouped_data.items():\n",
    "    ax.scatter(bin_, percentage, color=colors[court])\n",
    "\n",
    "# Definindo os rótulos dos eixos\n",
    "plt.xlabel('Bin')\n",
    "plt.ylabel('Porcentagem de vitórias de quem tem ranking melhor')\n",
    "\n",
    "# Criando a legenda com as cores dos courts\n",
    "legend_elements = [plt.Line2D([0], [0], marker='o', color='w', label='Indoor',\n",
    "                              markerfacecolor='blue', markersize=8),\n",
    "                   plt.Line2D([0], [0], marker='o', color='w', label='Outdoor',\n",
    "                              markerfacecolor='red', markersize=8)]\n",
    "plt.legend(handles=legend_elements)\n",
    "\n",
    "# Exibindo o gráfico\n",
    "plt.show()\n",
    "\n"
   ]
  },
  {
   "cell_type": "code",
   "execution_count": 97,
   "metadata": {},
   "outputs": [
    {
     "data": {
      "application/vnd.plotly.v1+json": {
       "config": {
        "plotlyServerURL": "https://plot.ly"
       },
       "data": [
        {
         "hovertemplate": "Court=Indoor<br>Bin=%{x}<br>Porcentagem=%{y}<extra></extra>",
         "legendgroup": "Indoor",
         "marker": {
          "color": "#636EFA",
          "symbol": "circle"
         },
         "mode": "markers",
         "name": "Indoor",
         "orientation": "v",
         "showlegend": true,
         "type": "scatter",
         "x": [
          0,
          1,
          2,
          3,
          4,
          5,
          6,
          7,
          8,
          9
         ],
         "xaxis": "x",
         "y": [
          58.211041229909156,
          62.9277566539924,
          63.77473363774734,
          66.11374407582939,
          67.82945736434108,
          69.27083333333334,
          76.19047619047619,
          68.23529411764706,
          75,
          61.111111111111114
         ],
         "yaxis": "y"
        },
        {
         "hovertemplate": "Court=Outdoor<br>Bin=%{x}<br>Porcentagem=%{y}<extra></extra>",
         "legendgroup": "Outdoor",
         "marker": {
          "color": "#EF553B",
          "symbol": "diamond"
         },
         "mode": "markers",
         "name": "Outdoor",
         "orientation": "v",
         "showlegend": true,
         "type": "scatter",
         "x": [
          0,
          1,
          2,
          3,
          4,
          5,
          6,
          7,
          8,
          9
         ],
         "xaxis": "x",
         "y": [
          56.496097137901124,
          62.92390405293631,
          67.59793501366535,
          70.29228557738381,
          71.89189189189189,
          72.92418772563177,
          70.37037037037037,
          73.13019390581718,
          77.1875,
          72.6457399103139
         ],
         "yaxis": "y"
        }
       ],
       "layout": {
        "height": 400,
        "legend": {
         "orientation": "h",
         "title": {
          "text": "Court"
         },
         "tracegroupgap": 0,
         "x": 1,
         "xanchor": "right",
         "y": 1.02,
         "yanchor": "bottom"
        },
        "plot_bgcolor": "white",
        "template": {
         "data": {
          "bar": [
           {
            "error_x": {
             "color": "#2a3f5f"
            },
            "error_y": {
             "color": "#2a3f5f"
            },
            "marker": {
             "line": {
              "color": "#E5ECF6",
              "width": 0.5
             },
             "pattern": {
              "fillmode": "overlay",
              "size": 10,
              "solidity": 0.2
             }
            },
            "type": "bar"
           }
          ],
          "barpolar": [
           {
            "marker": {
             "line": {
              "color": "#E5ECF6",
              "width": 0.5
             },
             "pattern": {
              "fillmode": "overlay",
              "size": 10,
              "solidity": 0.2
             }
            },
            "type": "barpolar"
           }
          ],
          "carpet": [
           {
            "aaxis": {
             "endlinecolor": "#2a3f5f",
             "gridcolor": "white",
             "linecolor": "white",
             "minorgridcolor": "white",
             "startlinecolor": "#2a3f5f"
            },
            "baxis": {
             "endlinecolor": "#2a3f5f",
             "gridcolor": "white",
             "linecolor": "white",
             "minorgridcolor": "white",
             "startlinecolor": "#2a3f5f"
            },
            "type": "carpet"
           }
          ],
          "choropleth": [
           {
            "colorbar": {
             "outlinewidth": 0,
             "ticks": ""
            },
            "type": "choropleth"
           }
          ],
          "contour": [
           {
            "colorbar": {
             "outlinewidth": 0,
             "ticks": ""
            },
            "colorscale": [
             [
              0,
              "#0d0887"
             ],
             [
              0.1111111111111111,
              "#46039f"
             ],
             [
              0.2222222222222222,
              "#7201a8"
             ],
             [
              0.3333333333333333,
              "#9c179e"
             ],
             [
              0.4444444444444444,
              "#bd3786"
             ],
             [
              0.5555555555555556,
              "#d8576b"
             ],
             [
              0.6666666666666666,
              "#ed7953"
             ],
             [
              0.7777777777777778,
              "#fb9f3a"
             ],
             [
              0.8888888888888888,
              "#fdca26"
             ],
             [
              1,
              "#f0f921"
             ]
            ],
            "type": "contour"
           }
          ],
          "contourcarpet": [
           {
            "colorbar": {
             "outlinewidth": 0,
             "ticks": ""
            },
            "type": "contourcarpet"
           }
          ],
          "heatmap": [
           {
            "colorbar": {
             "outlinewidth": 0,
             "ticks": ""
            },
            "colorscale": [
             [
              0,
              "#0d0887"
             ],
             [
              0.1111111111111111,
              "#46039f"
             ],
             [
              0.2222222222222222,
              "#7201a8"
             ],
             [
              0.3333333333333333,
              "#9c179e"
             ],
             [
              0.4444444444444444,
              "#bd3786"
             ],
             [
              0.5555555555555556,
              "#d8576b"
             ],
             [
              0.6666666666666666,
              "#ed7953"
             ],
             [
              0.7777777777777778,
              "#fb9f3a"
             ],
             [
              0.8888888888888888,
              "#fdca26"
             ],
             [
              1,
              "#f0f921"
             ]
            ],
            "type": "heatmap"
           }
          ],
          "heatmapgl": [
           {
            "colorbar": {
             "outlinewidth": 0,
             "ticks": ""
            },
            "colorscale": [
             [
              0,
              "#0d0887"
             ],
             [
              0.1111111111111111,
              "#46039f"
             ],
             [
              0.2222222222222222,
              "#7201a8"
             ],
             [
              0.3333333333333333,
              "#9c179e"
             ],
             [
              0.4444444444444444,
              "#bd3786"
             ],
             [
              0.5555555555555556,
              "#d8576b"
             ],
             [
              0.6666666666666666,
              "#ed7953"
             ],
             [
              0.7777777777777778,
              "#fb9f3a"
             ],
             [
              0.8888888888888888,
              "#fdca26"
             ],
             [
              1,
              "#f0f921"
             ]
            ],
            "type": "heatmapgl"
           }
          ],
          "histogram": [
           {
            "marker": {
             "pattern": {
              "fillmode": "overlay",
              "size": 10,
              "solidity": 0.2
             }
            },
            "type": "histogram"
           }
          ],
          "histogram2d": [
           {
            "colorbar": {
             "outlinewidth": 0,
             "ticks": ""
            },
            "colorscale": [
             [
              0,
              "#0d0887"
             ],
             [
              0.1111111111111111,
              "#46039f"
             ],
             [
              0.2222222222222222,
              "#7201a8"
             ],
             [
              0.3333333333333333,
              "#9c179e"
             ],
             [
              0.4444444444444444,
              "#bd3786"
             ],
             [
              0.5555555555555556,
              "#d8576b"
             ],
             [
              0.6666666666666666,
              "#ed7953"
             ],
             [
              0.7777777777777778,
              "#fb9f3a"
             ],
             [
              0.8888888888888888,
              "#fdca26"
             ],
             [
              1,
              "#f0f921"
             ]
            ],
            "type": "histogram2d"
           }
          ],
          "histogram2dcontour": [
           {
            "colorbar": {
             "outlinewidth": 0,
             "ticks": ""
            },
            "colorscale": [
             [
              0,
              "#0d0887"
             ],
             [
              0.1111111111111111,
              "#46039f"
             ],
             [
              0.2222222222222222,
              "#7201a8"
             ],
             [
              0.3333333333333333,
              "#9c179e"
             ],
             [
              0.4444444444444444,
              "#bd3786"
             ],
             [
              0.5555555555555556,
              "#d8576b"
             ],
             [
              0.6666666666666666,
              "#ed7953"
             ],
             [
              0.7777777777777778,
              "#fb9f3a"
             ],
             [
              0.8888888888888888,
              "#fdca26"
             ],
             [
              1,
              "#f0f921"
             ]
            ],
            "type": "histogram2dcontour"
           }
          ],
          "mesh3d": [
           {
            "colorbar": {
             "outlinewidth": 0,
             "ticks": ""
            },
            "type": "mesh3d"
           }
          ],
          "parcoords": [
           {
            "line": {
             "colorbar": {
              "outlinewidth": 0,
              "ticks": ""
             }
            },
            "type": "parcoords"
           }
          ],
          "pie": [
           {
            "automargin": true,
            "type": "pie"
           }
          ],
          "scatter": [
           {
            "fillpattern": {
             "fillmode": "overlay",
             "size": 10,
             "solidity": 0.2
            },
            "type": "scatter"
           }
          ],
          "scatter3d": [
           {
            "line": {
             "colorbar": {
              "outlinewidth": 0,
              "ticks": ""
             }
            },
            "marker": {
             "colorbar": {
              "outlinewidth": 0,
              "ticks": ""
             }
            },
            "type": "scatter3d"
           }
          ],
          "scattercarpet": [
           {
            "marker": {
             "colorbar": {
              "outlinewidth": 0,
              "ticks": ""
             }
            },
            "type": "scattercarpet"
           }
          ],
          "scattergeo": [
           {
            "marker": {
             "colorbar": {
              "outlinewidth": 0,
              "ticks": ""
             }
            },
            "type": "scattergeo"
           }
          ],
          "scattergl": [
           {
            "marker": {
             "colorbar": {
              "outlinewidth": 0,
              "ticks": ""
             }
            },
            "type": "scattergl"
           }
          ],
          "scattermapbox": [
           {
            "marker": {
             "colorbar": {
              "outlinewidth": 0,
              "ticks": ""
             }
            },
            "type": "scattermapbox"
           }
          ],
          "scatterpolar": [
           {
            "marker": {
             "colorbar": {
              "outlinewidth": 0,
              "ticks": ""
             }
            },
            "type": "scatterpolar"
           }
          ],
          "scatterpolargl": [
           {
            "marker": {
             "colorbar": {
              "outlinewidth": 0,
              "ticks": ""
             }
            },
            "type": "scatterpolargl"
           }
          ],
          "scatterternary": [
           {
            "marker": {
             "colorbar": {
              "outlinewidth": 0,
              "ticks": ""
             }
            },
            "type": "scatterternary"
           }
          ],
          "surface": [
           {
            "colorbar": {
             "outlinewidth": 0,
             "ticks": ""
            },
            "colorscale": [
             [
              0,
              "#0d0887"
             ],
             [
              0.1111111111111111,
              "#46039f"
             ],
             [
              0.2222222222222222,
              "#7201a8"
             ],
             [
              0.3333333333333333,
              "#9c179e"
             ],
             [
              0.4444444444444444,
              "#bd3786"
             ],
             [
              0.5555555555555556,
              "#d8576b"
             ],
             [
              0.6666666666666666,
              "#ed7953"
             ],
             [
              0.7777777777777778,
              "#fb9f3a"
             ],
             [
              0.8888888888888888,
              "#fdca26"
             ],
             [
              1,
              "#f0f921"
             ]
            ],
            "type": "surface"
           }
          ],
          "table": [
           {
            "cells": {
             "fill": {
              "color": "#EBF0F8"
             },
             "line": {
              "color": "white"
             }
            },
            "header": {
             "fill": {
              "color": "#C8D4E3"
             },
             "line": {
              "color": "white"
             }
            },
            "type": "table"
           }
          ]
         },
         "layout": {
          "annotationdefaults": {
           "arrowcolor": "#2a3f5f",
           "arrowhead": 0,
           "arrowwidth": 1
          },
          "autotypenumbers": "strict",
          "coloraxis": {
           "colorbar": {
            "outlinewidth": 0,
            "ticks": ""
           }
          },
          "colorscale": {
           "diverging": [
            [
             0,
             "#8e0152"
            ],
            [
             0.1,
             "#c51b7d"
            ],
            [
             0.2,
             "#de77ae"
            ],
            [
             0.3,
             "#f1b6da"
            ],
            [
             0.4,
             "#fde0ef"
            ],
            [
             0.5,
             "#f7f7f7"
            ],
            [
             0.6,
             "#e6f5d0"
            ],
            [
             0.7,
             "#b8e186"
            ],
            [
             0.8,
             "#7fbc41"
            ],
            [
             0.9,
             "#4d9221"
            ],
            [
             1,
             "#276419"
            ]
           ],
           "sequential": [
            [
             0,
             "#0d0887"
            ],
            [
             0.1111111111111111,
             "#46039f"
            ],
            [
             0.2222222222222222,
             "#7201a8"
            ],
            [
             0.3333333333333333,
             "#9c179e"
            ],
            [
             0.4444444444444444,
             "#bd3786"
            ],
            [
             0.5555555555555556,
             "#d8576b"
            ],
            [
             0.6666666666666666,
             "#ed7953"
            ],
            [
             0.7777777777777778,
             "#fb9f3a"
            ],
            [
             0.8888888888888888,
             "#fdca26"
            ],
            [
             1,
             "#f0f921"
            ]
           ],
           "sequentialminus": [
            [
             0,
             "#0d0887"
            ],
            [
             0.1111111111111111,
             "#46039f"
            ],
            [
             0.2222222222222222,
             "#7201a8"
            ],
            [
             0.3333333333333333,
             "#9c179e"
            ],
            [
             0.4444444444444444,
             "#bd3786"
            ],
            [
             0.5555555555555556,
             "#d8576b"
            ],
            [
             0.6666666666666666,
             "#ed7953"
            ],
            [
             0.7777777777777778,
             "#fb9f3a"
            ],
            [
             0.8888888888888888,
             "#fdca26"
            ],
            [
             1,
             "#f0f921"
            ]
           ]
          },
          "colorway": [
           "#636efa",
           "#EF553B",
           "#00cc96",
           "#ab63fa",
           "#FFA15A",
           "#19d3f3",
           "#FF6692",
           "#B6E880",
           "#FF97FF",
           "#FECB52"
          ],
          "font": {
           "color": "#2a3f5f"
          },
          "geo": {
           "bgcolor": "white",
           "lakecolor": "white",
           "landcolor": "#E5ECF6",
           "showlakes": true,
           "showland": true,
           "subunitcolor": "white"
          },
          "hoverlabel": {
           "align": "left"
          },
          "hovermode": "closest",
          "mapbox": {
           "style": "light"
          },
          "paper_bgcolor": "white",
          "plot_bgcolor": "#E5ECF6",
          "polar": {
           "angularaxis": {
            "gridcolor": "white",
            "linecolor": "white",
            "ticks": ""
           },
           "bgcolor": "#E5ECF6",
           "radialaxis": {
            "gridcolor": "white",
            "linecolor": "white",
            "ticks": ""
           }
          },
          "scene": {
           "xaxis": {
            "backgroundcolor": "#E5ECF6",
            "gridcolor": "white",
            "gridwidth": 2,
            "linecolor": "white",
            "showbackground": true,
            "ticks": "",
            "zerolinecolor": "white"
           },
           "yaxis": {
            "backgroundcolor": "#E5ECF6",
            "gridcolor": "white",
            "gridwidth": 2,
            "linecolor": "white",
            "showbackground": true,
            "ticks": "",
            "zerolinecolor": "white"
           },
           "zaxis": {
            "backgroundcolor": "#E5ECF6",
            "gridcolor": "white",
            "gridwidth": 2,
            "linecolor": "white",
            "showbackground": true,
            "ticks": "",
            "zerolinecolor": "white"
           }
          },
          "shapedefaults": {
           "line": {
            "color": "#2a3f5f"
           }
          },
          "ternary": {
           "aaxis": {
            "gridcolor": "white",
            "linecolor": "white",
            "ticks": ""
           },
           "baxis": {
            "gridcolor": "white",
            "linecolor": "white",
            "ticks": ""
           },
           "bgcolor": "#E5ECF6",
           "caxis": {
            "gridcolor": "white",
            "linecolor": "white",
            "ticks": ""
           }
          },
          "title": {
           "x": 0.05
          },
          "xaxis": {
           "automargin": true,
           "gridcolor": "white",
           "linecolor": "white",
           "ticks": "",
           "title": {
            "standoff": 15
           },
           "zerolinecolor": "white",
           "zerolinewidth": 2
          },
          "yaxis": {
           "automargin": true,
           "gridcolor": "white",
           "linecolor": "white",
           "ticks": "",
           "title": {
            "standoff": 15
           },
           "zerolinecolor": "white",
           "zerolinewidth": 2
          }
         }
        },
        "title": {
         "text": "Porcentagem de vitórias por Bin e Court"
        },
        "width": 600,
        "xaxis": {
         "anchor": "y",
         "domain": [
          0,
          1
         ],
         "title": {
          "text": "Bin"
         }
        },
        "yaxis": {
         "anchor": "x",
         "domain": [
          0,
          1
         ],
         "title": {
          "text": "Porcentagem"
         }
        }
       }
      }
     },
     "metadata": {},
     "output_type": "display_data"
    }
   ],
   "source": [
    "# Calculando a porcentagem de vitórias por bin e court\n",
    "grouped_data = result.groupby(['Court', 'Bin']).apply(lambda x: (x['Rank_winner'] < x['Rank_loser']).mean() * 100)\n",
    "grouped_data = grouped_data.reset_index(name='Porcentagem')\n",
    "\n",
    "# Definindo as cores para cada court\n",
    "colors = px.colors.qualitative.Plotly[:len(result['Court'].unique())]\n",
    "\n",
    "# Criando o gráfico de pontos interativo com legenda\n",
    "fig = px.scatter(grouped_data, x='Bin', y='Porcentagem', color='Court', symbol='Court',\n",
    "                 color_discrete_sequence=colors, title='Porcentagem de vitórias por Bin e Court')\n",
    "fig.update_layout(legend_title='Court', legend=dict(orientation='h', yanchor='bottom', y=1.02, xanchor='right', x=1))\n",
    "\n",
    "fig.update_layout(width=600, height=400, plot_bgcolor='white')\n",
    "\n",
    "\n",
    "# Exibindo o gráfico\n",
    "fig.show()"
   ]
  },
  {
   "cell_type": "code",
   "execution_count": 84,
   "metadata": {},
   "outputs": [
    {
     "data": {
      "image/png": "[encoded data removed]",
      "text/plain": [
       "<Figure size 640x480 with 1 Axes>"
      ]
     },
     "metadata": {},
     "output_type": "display_data"
    }
   ],
   "source": [
    "# Agrupando os valores por Bin e Court e calculando a porcentagem de vitórias\n",
    "grouped_data = result.groupby(['Bin', 'Surface']).apply(lambda x: (x['Rank_winner'] < x['Rank_loser']).mean() * 100)\n",
    "\n",
    "# Criando o gráfico de pontos\n",
    "fig, ax = plt.subplots()\n",
    "\n",
    "# Definindo as cores para cada court\n",
    "colors = {'Hard': 'blue', 'Clay': 'red', 'Grass': 'gray'}\n",
    "\n",
    "# Iterando sobre os grupos e criando os pontos\n",
    "for (bin_, court), percentage in grouped_data.items():\n",
    "    ax.scatter(bin_, percentage, color=colors[court])\n",
    "\n",
    "# Definindo os rótulos dos eixos\n",
    "plt.xlabel('Bin')\n",
    "plt.ylabel('Porcentagem de vitórias de quem tem ranking menor')\n",
    "\n",
    "# Criando a legenda com as cores dos courts\n",
    "legend_elements = [plt.Line2D([0], [0], marker='o', color='w', label='Hard',\n",
    "                              markerfacecolor='blue', markersize=8),\n",
    "                   plt.Line2D([0], [0], marker='o', color='w', label='Grass',\n",
    "                              markerfacecolor='gray', markersize=8),\n",
    "                   plt.Line2D([0], [0], marker='o', color='w', label='Clay',\n",
    "                              markerfacecolor='red', markersize=8)]\n",
    "plt.legend(handles=legend_elements)\n",
    "\n",
    "# Exibindo o gráfico\n",
    "plt.show()\n",
    "\n"
   ]
  },
  {
   "cell_type": "code",
   "execution_count": 85,
   "metadata": {},
   "outputs": [
    {
     "data": {
      "text/plain": [
       "array(['1st Round', '2nd Round', 'Quarterfinals', 'Semifinals',\n",
       "       'The Final', '3rd Round', '4th Round', 'Round Robin'], dtype=object)"
      ]
     },
     "execution_count": 85,
     "metadata": {},
     "output_type": "execute_result"
    }
   ],
   "source": [
    "df['Round'].unique()"
   ]
  },
  {
   "cell_type": "code",
   "execution_count": null,
   "metadata": {},
   "outputs": [],
   "source": []
  }
 ],
 "metadata": {
  "kernelspec": {
   "display_name": "Python 3",
   "language": "python",
   "name": "python3"
  },
  "language_info": {
   "codemirror_mode": {
    "name": "ipython",
    "version": 3
   },
   "file_extension": ".py",
   "mimetype": "text/x-python",
   "name": "python",
   "nbconvert_exporter": "python",
   "pygments_lexer": "ipython3",
   "version": "3.9.6"
  },
  "orig_nbformat": 4
 },
 "nbformat": 4,
 "nbformat_minor": 2
}
